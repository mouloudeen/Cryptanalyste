{
 "cells": [
  {
   "cell_type": "markdown",
   "metadata": {},
   "source": [
    "# II Cryptanalyse de RSA"
   ]
  },
  {
   "cell_type": "markdown",
   "metadata": {},
   "source": [
    "## 16"
   ]
  },
  {
   "cell_type": "code",
   "execution_count": 33,
   "metadata": {},
   "outputs": [],
   "source": [
    "Pr.<x,y,u> = PolynomialRing(ZZ)"
   ]
  },
  {
   "cell_type": "code",
   "execution_count": 34,
   "metadata": {},
   "outputs": [],
   "source": [
    "def gen(k,gamma):\n",
    "    # On prend au hasard p le premier nombre premier.\n",
    "    p = random_prime(2**k,lbound = 2**(k-1), proof=false)\n",
    "    \n",
    "    # On prend au hasard q le deuxième nombre premier.  \n",
    "    q = random_prime(2**k,lbound = 2**(k-1), proof=false)\n",
    "    \n",
    "    # Si P et Q sont égal, on recherche pour une autre valeur qui est\n",
    "    # premier.\n",
    "    if q==p:\n",
    "        q=next_prime(q)\n",
    "        \n",
    "    N = p*q\n",
    "    \n",
    "    # On calcule phi(N)= (p-1)*(q-1)\n",
    "    phi =(p-1)*(q-1)\n",
    "    \n",
    "    # On calcule d'abord d\n",
    "    d = floor(N**gamma)\n",
    "    \n",
    "    # On cherche le plus grand d possible inferieur à N^gamma\n",
    "    # et qui soit premier avec phi\n",
    "    while gcd(phi,d) != 1:\n",
    "        d = d-1\n",
    "        \n",
    "    # On calcule e=d^(-1)mod(phi)\n",
    "    e = d.inverse_mod(phi)\n",
    "    return N,e,d"
   ]
  },
  {
   "cell_type": "code",
   "execution_count": 24,
   "metadata": {},
   "outputs": [
    {
     "data": {
      "text/plain": [
       "(643022092392819660182994303434230600469863848162575436835615212823598844534917513839036206796181702530474289870016670503713210893663504412010474779064868172619306303578872195010835989911931608901037167421869951050575310072792642458438422326694697552574531971265119592520697067060445151331225310558224270241983527235175196600609623977405666301296678240029386092194873110366433616916327882914216846070263360205175925041210113631440014188520432108558362632454163143844816792467646811817873963707835176125388666441957285846618819909740246488539397615126158639559633694811845127351599297869232649429848506977716606095408355099321769691072322886377301646418076230985517018331783126806301750499274861772125494937026750585150308266646931705012698184287911340805710443023005577034999309948434984917123594275398162845863904350042461410892293812260505745584516083080568637932313303369132112080850285592626837425606678184568174117165603946084117134168540206179155930638410072859419024804256084227952359409249011022182584831282239695724507339626369382562739061609676930468636088692151670742059155222151388455159382188831542887251791542188807324520081349257067841136433502587545508861069681920076885441535561276493679180027128606992048286173213391,\n",
       " 356496217212269470549627031135495746302482849026609368368603965738081545120205450435305105805742455681862611756261311428303264533695383675412990451680318349740252322847636435246137829567086494029307408491262324767433316703975470515410729626953645848507713252541722407401013086094848656534519788300810080050949891763503157175602699597373476207861854087876362048637123939612872410267596880341898187842172277386119009897553750423203899119980819555815187228248034258778957920278565467339484172335348920430439372164279106624425556551520844093293542219564957961797308387603923811527039410315495702805404260852390504786774270475442840174323962077574940495416511528190966065074272722054117536506947765883527159518708613750525977827859632300515144441036917205374139970124519800737291318532962366498543571492940269514373075677400800097971988104050842510885648279682027230663738856832873523049904456104498648380291801505954627822072075282992295149910128488500043410189499192989310453251162696527418125566177327041499920249857667006995942189195853670385303039885748225754600058895785459219265148880748922327680347019818349477527447835353403268603798146603563380445703182138142807602425340663889912763687670156804790377575865649661716181595559775,\n",
       " 25357880281932470963324587672859135631130185355911065426849566683762951204327908263407501063750843601699997414256978587408342429452567445560201165469947097552244241678372555471444271113129660365805386131311977610514803228618574489178075469379402568513492395381371785781327557322726361447363709522589233494073594763086052381311650804477824563179603047092237770690899389846438314788343383589601917332256126990892381245169543529024870236809807939762079768140775945973646670916222146168930857745593169935692382986209303172204916409870330926612338688091393984019764531926828654313393767482172581172886528187434969373605887)"
      ]
     },
     "execution_count": 24,
     "metadata": {},
     "output_type": "execute_result"
    }
   ],
   "source": [
    "gen(2048,0.5)"
   ]
  },
  {
   "cell_type": "markdown",
   "metadata": {},
   "source": [
    "## 21"
   ]
  },
  {
   "cell_type": "code",
   "execution_count": 25,
   "metadata": {},
   "outputs": [],
   "source": [
    "def changevar1e(f):\n",
    "    \n",
    "    # On recupère le degrée du polynômes pour créer les listes de monômes.\n",
    "    d = f.degree()\n",
    "    \n",
    "    # On recherche dans la fonction tous les coefficient des mônomes de la forme x**i*y**j avec i et j entre 1 et d\n",
    "    for i in range(1,d):\n",
    "        for j in range(1,d):\n",
    "        # On calcule tous les coefficients de chaque monôme de la forme x**i*y**j\n",
    "            k = f.coefficient(x**i*y**j)\n",
    "            if i < j:\n",
    "                # Comme la puissance de x est supérieur à la puissance de y.\n",
    "                f = f  - k*((x**i*y**j) - ((u-1)**i*y**(j-i)))\n",
    "             \n",
    "            if i ==j :\n",
    "                #Comme la puissance de x est égale à la puissance de y.\n",
    "                f = f   - k*((x**i*y**j) - (u-1)**i)\n",
    "            \n",
    "            if j<i :\n",
    "                # Comme la puissance de y est supérieur à la puissance de x.\n",
    "                f = f - k*((x**i*y**j) -  ((u-1)**j*x**(i-j)))\n",
    "            \n",
    "    return f"
   ]
  },
  {
   "cell_type": "code",
   "execution_count": 26,
   "metadata": {},
   "outputs": [],
   "source": [
    "def lattice(m,t,N,e,gamma):\n",
    "    e1 = ZZ(e)\n",
    "    # D'après l'énoncé:\n",
    "    X = integer_ceil(e1**gamma)\n",
    "    Y = integer_ceil(e1**(0.5))\n",
    "    U = 1+X*Y\n",
    "    \n",
    "    # On crée la fonction ft\n",
    "    \n",
    "    ft = u + (N+1)*x\n",
    "    \n",
    "    # On crée la liste de famille de polynomes ht\n",
    "    H = [y**j*ft**k*e**(m-k) for j in range(1,t+1) for k in [integer_floor(m/t)*j..m]]\n",
    "    \n",
    "    # Pour chaque polynôme ht on fait le changement de x*y par (u-1)\n",
    "    H1 = [changevar1e(i) for i in H]\n",
    "   \n",
    "    # On crée la liste des deux familles de pôlynomes.\n",
    "    L =[x**i*ft**k*e**(m-k) for k in range(m+1) for i in range(m-k+1)]+H1 \n",
    "    \n",
    "    # On rajoute x*X,y*Y,u*U\n",
    "    L1 = [i.subs({x:x*X, y:y*Y, u:u*U}) for i in L]\n",
    "    \n",
    "    # On crée la liste des monômes.\n",
    "    M =[x**(k-i)*u**i for k in range(m+1) for i in range(k+1)]+[y**j*u**k for j in range(1,t+1) for k in [integer_floor(m/t)*j..m]]\n",
    "    \n",
    "    # On crée la matrice avec les coefficients de chaques monômes par rapport aux polynômes.\n",
    "    Mat = matrix(ZZ,len(L1),len(M))\n",
    "    for i in range(len(L1)):\n",
    "        for j in range(len(M)):\n",
    "            Mat[i,j] = L1[i].monomial_coefficient(M[j])\n",
    "    return Mat"
   ]
  },
  {
   "cell_type": "code",
   "execution_count": 27,
   "metadata": {},
   "outputs": [
    {
     "name": "stdout",
     "output_type": "stream",
     "text": [
      "N = 899 e =617\n",
      "X = 90  Y = 25  U = 2251\n"
     ]
    }
   ],
   "source": [
    "# On essaie avec un petit exemple\n",
    "N,e,d =gen(5,0.7)\n",
    "print(\"N = %d e =%d\" %(N, e))\n",
    "gamma = 0.7\n",
    "X = integer_ceil(e**gamma)\n",
    "Y = integer_ceil(e**(0.5))\n",
    "U = 1+X*Y\n",
    "print(\"X = %d  Y = %d  U = %d\" %(X, Y, U))"
   ]
  },
  {
   "cell_type": "code",
   "execution_count": 28,
   "metadata": {},
   "outputs": [
    {
     "data": {
      "text/plain": [
       "[      380689            0            0            0            0            0            0]\n",
       "[           0     34262010            0            0            0            0            0]\n",
       "[           0            0            0   3083580900            0            0            0]\n",
       "[           0     49977000      1388867            0            0            0            0]\n",
       "[           0            0            0   4497930000    124998030            0            0]\n",
       "[           0            0            0   6561000000    364662000      5067001            0]\n",
       "[           0    -72900000     -4051800            0 164097900000   9120601800    126675025]"
      ]
     },
     "execution_count": 28,
     "metadata": {},
     "output_type": "execute_result"
    }
   ],
   "source": [
    "lattice(2,1,N,e,gamma)"
   ]
  },
  {
   "cell_type": "markdown",
   "metadata": {},
   "source": [
    "## 22"
   ]
  },
  {
   "cell_type": "code",
   "execution_count": 29,
   "metadata": {},
   "outputs": [],
   "source": [
    "def changevar2(f):\n",
    "    #On change u en 1+x*y \n",
    "    f = f.substitute(u = 1+x*y)\n",
    "    return f"
   ]
  },
  {
   "cell_type": "markdown",
   "metadata": {},
   "source": [
    "## 24"
   ]
  },
  {
   "cell_type": "code",
   "execution_count": 12,
   "metadata": {},
   "outputs": [],
   "source": [
    "def factorisation(N,e,gamma,m):\n",
    "    e1 = ZZ(e)\n",
    "   # D'après l'énoncé:\n",
    "    X = integer_ceil(e1**gamma)\n",
    "    Y = integer_ceil(e1**(0.5))\n",
    "    U = 1+X*Y\n",
    "    t = integer_floor(m*(1-2*gamma))\n",
    "    Mat =lattice(m,t,N,e,gamma)\n",
    "    Matl = Mat.LLL()\n",
    "    \n",
    "    Pr.<x,y,u> = PolynomialRing(QQ)\n",
    "    # On crée une liste de monômes\n",
    "    M =[(x/X)**(k-i)*(u/U)**i for k in range(m+1) for i in range(k+1)]+[(y/Y)**j*(u/U)**k for j in range(1,t+1) for k in [integer_floor(m/t)*j..m]]\n",
    "    \n",
    "    # On crée les polynomes de chaque ligne de la matrice.\n",
    "    P=[sum(Matl[i][j]*M[j] for j in range(len(M))) for i in range(len(M))]\n",
    "    \n",
    "    \n",
    "    \n",
    "    # On remplace u par 1+x*y\n",
    "    Pchange = [changevar2(i) for i in P]\n",
    "    \n",
    "    \n",
    "   \n",
    "    # on initialise i=0\n",
    "    i = 0\n",
    "    P1 = Pchange[i]\n",
    "    P2 = Pchange[i+1]\n",
    "    \n",
    "    # On met Pxy un nouvelle anneau polynomial en fonction de x et y\n",
    "    Pxy.<x, y> = PolynomialRing(ZZ)\n",
    "    # On caste P1 et P2 en Pxy\n",
    "    \n",
    "    PP1 = Pxy(P1)\n",
    "    PP2 = Pxy(P2)\n",
    "   \n",
    "    \n",
    "    res = PP1.resultant(PP2,y)\n",
    "    \n",
    "     # On met Px un nouvelle anneau polynomial en fonction de x\n",
    "    Px.<x> = PolynomialRing(ZZ)\n",
    "    \n",
    "    resx = Px(res)\n",
    "    \n",
    "    \n",
    "    while res.degree() < 0  and i!=len(M)-2:\n",
    "        i = i+1\n",
    "        P1 = Pchange[i]\n",
    "        P2 = Pchange[i+1] \n",
    "        PP1 = Pxy(P1)\n",
    "        PP2 = Pxy(P2)\n",
    "        \n",
    "    \n",
    "        # On met Px un nouvelle anneau polynomial en fonction de x\n",
    "   \n",
    "        res = PP1.resultant(PP2,y)\n",
    "        \n",
    "        Px.<x> = PolynomialRing(QQ)\n",
    "    \n",
    "        resx = Px(res)\n",
    "        \n",
    "        \n",
    "    \n",
    "        \n",
    "    \n",
    "    # On regarde sur on est sorti de la liste de fonctions\n",
    "    if i == len(M)-2:\n",
    "        return (-1)\n",
    "    # On cherche la premiere valeur   \n",
    "    x0 = resx.roots(QQ)[0][0]\n",
    "    \n",
    "    \n",
    "    #On reinjecte cette valeur sur le premier polynôme\n",
    "    PPP1 =P2.subs(x=x0)\n",
    "    \n",
    "    # On met Py un nouvelle anneau polynomial en fonction de y\n",
    "    Py.<y> = PolynomialRing(ZZ)\n",
    "    \n",
    "    # On le caste en Py\n",
    "    equy = Py(PPP1)\n",
    "    \n",
    "    # On cherche la racine de cette équation en fonction de y\n",
    "    y0 =equy.roots(QQ)[0][0]\n",
    "    \n",
    "    # D'aprés les résultats de la question 16 et 17\n",
    "    d = (x0*(N+1+y0)+1)/e1\n",
    "    \n",
    "    return (d )   "
   ]
  },
  {
   "cell_type": "code",
   "execution_count": 13,
   "metadata": {},
   "outputs": [],
   "source": [
    "#premier exemple demandé\n",
    "N1,e1,d1 =gen(1024,0.2)\n",
    "gamma = 0.2\n",
    "m = 2"
   ]
  },
  {
   "cell_type": "code",
   "execution_count": 14,
   "metadata": {},
   "outputs": [],
   "source": [
    "d= factorisation(N1,e1,gamma,m)"
   ]
  },
  {
   "cell_type": "code",
   "execution_count": 15,
   "metadata": {},
   "outputs": [
    {
     "data": {
      "text/plain": [
       "True"
      ]
     },
     "execution_count": 15,
     "metadata": {},
     "output_type": "execute_result"
    }
   ],
   "source": [
    "# On voit que c'est le bon d retrouvé\n",
    "d ==d1"
   ]
  },
  {
   "cell_type": "code",
   "execution_count": 16,
   "metadata": {},
   "outputs": [
    {
     "data": {
      "text/plain": [
       "1741114410480929386621178571294579490225243945228312144161199861755880439458223473085196421199981771426061197566373833736191"
      ]
     },
     "execution_count": 16,
     "metadata": {},
     "output_type": "execute_result"
    }
   ],
   "source": [
    "d"
   ]
  },
  {
   "cell_type": "code",
   "execution_count": 17,
   "metadata": {},
   "outputs": [
    {
     "data": {
      "text/plain": [
       "1741114410480929386621178571294579490225243945228312144161199861755880439458223473085196421199981771426061197566373833736191"
      ]
     },
     "execution_count": 17,
     "metadata": {},
     "output_type": "execute_result"
    }
   ],
   "source": [
    "d1"
   ]
  },
  {
   "cell_type": "code",
   "execution_count": 30,
   "metadata": {},
   "outputs": [],
   "source": [
    "#deuxième exemple demandé\n",
    "N2,e2,d2 =gen(1024,0.25)\n",
    "gamma = 0.25\n",
    "m = 2"
   ]
  },
  {
   "cell_type": "code",
   "execution_count": 19,
   "metadata": {},
   "outputs": [
    {
     "ename": "IndexError",
     "evalue": "list index out of range",
     "output_type": "error",
     "traceback": [
      "\u001b[0;31m---------------------------------------------------------------------------\u001b[0m",
      "\u001b[0;31mIndexError\u001b[0m                                Traceback (most recent call last)",
      "\u001b[0;32m<ipython-input-19-8fbe9b4f8820>\u001b[0m in \u001b[0;36m<module>\u001b[0;34m\u001b[0m\n\u001b[0;32m----> 1\u001b[0;31m \u001b[0md\u001b[0m\u001b[0;34m=\u001b[0m \u001b[0mfactorisation\u001b[0m\u001b[0;34m(\u001b[0m\u001b[0mN2\u001b[0m\u001b[0;34m,\u001b[0m\u001b[0me2\u001b[0m\u001b[0;34m,\u001b[0m\u001b[0mgamma\u001b[0m\u001b[0;34m,\u001b[0m\u001b[0mm\u001b[0m\u001b[0;34m)\u001b[0m\u001b[0;34m\u001b[0m\u001b[0;34m\u001b[0m\u001b[0m\n\u001b[0m",
      "\u001b[0;32m<ipython-input-12-866ba36bba95>\u001b[0m in \u001b[0;36mfactorisation\u001b[0;34m(N, e, gamma, m)\u001b[0m\n\u001b[1;32m     68\u001b[0m         \u001b[0;32mreturn\u001b[0m \u001b[0;34m(\u001b[0m\u001b[0;34m-\u001b[0m\u001b[0mInteger\u001b[0m\u001b[0;34m(\u001b[0m\u001b[0;36m1\u001b[0m\u001b[0;34m)\u001b[0m\u001b[0;34m)\u001b[0m\u001b[0;34m\u001b[0m\u001b[0;34m\u001b[0m\u001b[0m\n\u001b[1;32m     69\u001b[0m     \u001b[0;31m# On cherche la premiere valeur\u001b[0m\u001b[0;34m\u001b[0m\u001b[0;34m\u001b[0m\u001b[0;34m\u001b[0m\u001b[0m\n\u001b[0;32m---> 70\u001b[0;31m     \u001b[0mx0\u001b[0m \u001b[0;34m=\u001b[0m \u001b[0mresx\u001b[0m\u001b[0;34m.\u001b[0m\u001b[0mroots\u001b[0m\u001b[0;34m(\u001b[0m\u001b[0mQQ\u001b[0m\u001b[0;34m)\u001b[0m\u001b[0;34m[\u001b[0m\u001b[0mInteger\u001b[0m\u001b[0;34m(\u001b[0m\u001b[0;36m0\u001b[0m\u001b[0;34m)\u001b[0m\u001b[0;34m]\u001b[0m\u001b[0;34m[\u001b[0m\u001b[0mInteger\u001b[0m\u001b[0;34m(\u001b[0m\u001b[0;36m0\u001b[0m\u001b[0;34m)\u001b[0m\u001b[0;34m]\u001b[0m\u001b[0;34m\u001b[0m\u001b[0;34m\u001b[0m\u001b[0m\n\u001b[0m\u001b[1;32m     71\u001b[0m \u001b[0;34m\u001b[0m\u001b[0m\n\u001b[1;32m     72\u001b[0m \u001b[0;34m\u001b[0m\u001b[0m\n",
      "\u001b[0;31mIndexError\u001b[0m: list index out of range"
     ]
    }
   ],
   "source": [
    "d= factorisation(N2,e2,gamma,m)"
   ]
  },
  {
   "cell_type": "code",
   "execution_count": 32,
   "metadata": {},
   "outputs": [
    {
     "ename": "TypeError",
     "evalue": "The input degrees must be a dictionary of variables to exponents.",
     "output_type": "error",
     "traceback": [
      "\u001b[0;31m---------------------------------------------------------------------------\u001b[0m",
      "\u001b[0;31mTypeError\u001b[0m                                 Traceback (most recent call last)",
      "\u001b[0;32m<ipython-input-32-3e4447e58691>\u001b[0m in \u001b[0;36m<module>\u001b[0;34m\u001b[0m\n\u001b[1;32m      5\u001b[0m \u001b[0mU\u001b[0m \u001b[0;34m=\u001b[0m \u001b[0mInteger\u001b[0m\u001b[0;34m(\u001b[0m\u001b[0;36m1\u001b[0m\u001b[0;34m)\u001b[0m\u001b[0;34m+\u001b[0m\u001b[0mX\u001b[0m\u001b[0;34m*\u001b[0m\u001b[0mY\u001b[0m\u001b[0;34m\u001b[0m\u001b[0;34m\u001b[0m\u001b[0m\n\u001b[1;32m      6\u001b[0m \u001b[0mt\u001b[0m \u001b[0;34m=\u001b[0m \u001b[0minteger_floor\u001b[0m\u001b[0;34m(\u001b[0m\u001b[0mm\u001b[0m\u001b[0;34m*\u001b[0m\u001b[0;34m(\u001b[0m\u001b[0mInteger\u001b[0m\u001b[0;34m(\u001b[0m\u001b[0;36m1\u001b[0m\u001b[0;34m)\u001b[0m\u001b[0;34m-\u001b[0m\u001b[0mInteger\u001b[0m\u001b[0;34m(\u001b[0m\u001b[0;36m2\u001b[0m\u001b[0;34m)\u001b[0m\u001b[0;34m*\u001b[0m\u001b[0mgamma\u001b[0m\u001b[0;34m)\u001b[0m\u001b[0;34m)\u001b[0m\u001b[0;34m\u001b[0m\u001b[0;34m\u001b[0m\u001b[0m\n\u001b[0;32m----> 7\u001b[0;31m \u001b[0mMat\u001b[0m \u001b[0;34m=\u001b[0m\u001b[0mlattice\u001b[0m\u001b[0;34m(\u001b[0m\u001b[0mm\u001b[0m\u001b[0;34m,\u001b[0m\u001b[0mt\u001b[0m\u001b[0;34m,\u001b[0m\u001b[0mN\u001b[0m\u001b[0;34m,\u001b[0m\u001b[0me2\u001b[0m\u001b[0;34m,\u001b[0m\u001b[0mgamma\u001b[0m\u001b[0;34m)\u001b[0m\u001b[0;34m\u001b[0m\u001b[0;34m\u001b[0m\u001b[0m\n\u001b[0m\u001b[1;32m      8\u001b[0m \u001b[0mMatl\u001b[0m \u001b[0;34m=\u001b[0m \u001b[0mMat\u001b[0m\u001b[0;34m.\u001b[0m\u001b[0mLLL\u001b[0m\u001b[0;34m(\u001b[0m\u001b[0;34m)\u001b[0m\u001b[0;34m\u001b[0m\u001b[0;34m\u001b[0m\u001b[0m\n\u001b[1;32m      9\u001b[0m \u001b[0;34m\u001b[0m\u001b[0m\n",
      "\u001b[0;32m<ipython-input-26-b198aad7bbae>\u001b[0m in \u001b[0;36mlattice\u001b[0;34m(m, t, N, e, gamma)\u001b[0m\n\u001b[1;32m     14\u001b[0m \u001b[0;34m\u001b[0m\u001b[0m\n\u001b[1;32m     15\u001b[0m     \u001b[0;31m# Pour chaque polynôme ht on fait le changement de x*y par (u-1)\u001b[0m\u001b[0;34m\u001b[0m\u001b[0;34m\u001b[0m\u001b[0;34m\u001b[0m\u001b[0m\n\u001b[0;32m---> 16\u001b[0;31m     \u001b[0mH1\u001b[0m \u001b[0;34m=\u001b[0m \u001b[0;34m[\u001b[0m\u001b[0mchangevar1e\u001b[0m\u001b[0;34m(\u001b[0m\u001b[0mi\u001b[0m\u001b[0;34m)\u001b[0m \u001b[0;32mfor\u001b[0m \u001b[0mi\u001b[0m \u001b[0;32min\u001b[0m \u001b[0mH\u001b[0m\u001b[0;34m]\u001b[0m\u001b[0;34m\u001b[0m\u001b[0;34m\u001b[0m\u001b[0m\n\u001b[0m\u001b[1;32m     17\u001b[0m \u001b[0;34m\u001b[0m\u001b[0m\n\u001b[1;32m     18\u001b[0m     \u001b[0;31m# On crée la liste des deux familles de pôlynomes.\u001b[0m\u001b[0;34m\u001b[0m\u001b[0;34m\u001b[0m\u001b[0;34m\u001b[0m\u001b[0m\n",
      "\u001b[0;32m<ipython-input-26-b198aad7bbae>\u001b[0m in \u001b[0;36m<listcomp>\u001b[0;34m(.0)\u001b[0m\n\u001b[1;32m     14\u001b[0m \u001b[0;34m\u001b[0m\u001b[0m\n\u001b[1;32m     15\u001b[0m     \u001b[0;31m# Pour chaque polynôme ht on fait le changement de x*y par (u-1)\u001b[0m\u001b[0;34m\u001b[0m\u001b[0;34m\u001b[0m\u001b[0;34m\u001b[0m\u001b[0m\n\u001b[0;32m---> 16\u001b[0;31m     \u001b[0mH1\u001b[0m \u001b[0;34m=\u001b[0m \u001b[0;34m[\u001b[0m\u001b[0mchangevar1e\u001b[0m\u001b[0;34m(\u001b[0m\u001b[0mi\u001b[0m\u001b[0;34m)\u001b[0m \u001b[0;32mfor\u001b[0m \u001b[0mi\u001b[0m \u001b[0;32min\u001b[0m \u001b[0mH\u001b[0m\u001b[0;34m]\u001b[0m\u001b[0;34m\u001b[0m\u001b[0;34m\u001b[0m\u001b[0m\n\u001b[0m\u001b[1;32m     17\u001b[0m \u001b[0;34m\u001b[0m\u001b[0m\n\u001b[1;32m     18\u001b[0m     \u001b[0;31m# On crée la liste des deux familles de pôlynomes.\u001b[0m\u001b[0;34m\u001b[0m\u001b[0;34m\u001b[0m\u001b[0;34m\u001b[0m\u001b[0m\n",
      "\u001b[0;32m<ipython-input-25-cc79f1319f0b>\u001b[0m in \u001b[0;36mchangevar1e\u001b[0;34m(f)\u001b[0m\n\u001b[1;32m      8\u001b[0m         \u001b[0;32mfor\u001b[0m \u001b[0mj\u001b[0m \u001b[0;32min\u001b[0m \u001b[0mrange\u001b[0m\u001b[0;34m(\u001b[0m\u001b[0mInteger\u001b[0m\u001b[0;34m(\u001b[0m\u001b[0;36m1\u001b[0m\u001b[0;34m)\u001b[0m\u001b[0;34m,\u001b[0m\u001b[0md\u001b[0m\u001b[0;34m)\u001b[0m\u001b[0;34m:\u001b[0m\u001b[0;34m\u001b[0m\u001b[0;34m\u001b[0m\u001b[0m\n\u001b[1;32m      9\u001b[0m         \u001b[0;31m# On calcule tous les coefficients de chaque monôme de la forme x**i*y**j\u001b[0m\u001b[0;34m\u001b[0m\u001b[0;34m\u001b[0m\u001b[0;34m\u001b[0m\u001b[0m\n\u001b[0;32m---> 10\u001b[0;31m             \u001b[0mk\u001b[0m \u001b[0;34m=\u001b[0m \u001b[0mf\u001b[0m\u001b[0;34m.\u001b[0m\u001b[0mcoefficient\u001b[0m\u001b[0;34m(\u001b[0m\u001b[0mx\u001b[0m\u001b[0;34m**\u001b[0m\u001b[0mi\u001b[0m\u001b[0;34m*\u001b[0m\u001b[0my\u001b[0m\u001b[0;34m**\u001b[0m\u001b[0mj\u001b[0m\u001b[0;34m)\u001b[0m\u001b[0;34m\u001b[0m\u001b[0;34m\u001b[0m\u001b[0m\n\u001b[0m\u001b[1;32m     11\u001b[0m             \u001b[0;32mif\u001b[0m \u001b[0mi\u001b[0m \u001b[0;34m<\u001b[0m \u001b[0mj\u001b[0m\u001b[0;34m:\u001b[0m\u001b[0;34m\u001b[0m\u001b[0;34m\u001b[0m\u001b[0m\n\u001b[1;32m     12\u001b[0m                 \u001b[0;31m# Comme la puissance de x est supérieur à la puissance de y.\u001b[0m\u001b[0;34m\u001b[0m\u001b[0;34m\u001b[0m\u001b[0;34m\u001b[0m\u001b[0m\n",
      "\u001b[0;32m/Applications/SageMath-9.2.app/Contents/Resources/sage/local/lib/python3.8/site-packages/sage/rings/polynomial/multi_polynomial_libsingular.pyx\u001b[0m in \u001b[0;36msage.rings.polynomial.multi_polynomial_libsingular.MPolynomial_libsingular.coefficient (build/cythonized/sage/rings/polynomial/multi_polynomial_libsingular.cpp:25481)\u001b[0;34m()\u001b[0m\n\u001b[1;32m   2890\u001b[0m                     \u001b[0;32mpass\u001b[0m\u001b[0;34m\u001b[0m\u001b[0;34m\u001b[0m\u001b[0m\n\u001b[1;32m   2891\u001b[0m         \u001b[0;32melse\u001b[0m\u001b[0;34m:\u001b[0m\u001b[0;34m\u001b[0m\u001b[0;34m\u001b[0m\u001b[0m\n\u001b[0;32m-> 2892\u001b[0;31m             \u001b[0;32mraise\u001b[0m \u001b[0mTypeError\u001b[0m\u001b[0;34m(\u001b[0m\u001b[0;34m\"The input degrees must be a dictionary of variables to exponents.\"\u001b[0m\u001b[0;34m)\u001b[0m\u001b[0;34m\u001b[0m\u001b[0;34m\u001b[0m\u001b[0m\n\u001b[0m\u001b[1;32m   2893\u001b[0m \u001b[0;34m\u001b[0m\u001b[0m\n\u001b[1;32m   2894\u001b[0m         \u001b[0;31m# Extract the monomials that match the specifications\u001b[0m\u001b[0;34m\u001b[0m\u001b[0;34m\u001b[0m\u001b[0;34m\u001b[0m\u001b[0m\n",
      "\u001b[0;31mTypeError\u001b[0m: The input degrees must be a dictionary of variables to exponents."
     ]
    }
   ],
   "source": [
    " e = ZZ(e2)\n",
    "   # D'après l'énoncé:\n",
    "X = integer_ceil(e**gamma)\n",
    "Y = integer_ceil(e**(0.5))\n",
    "U = 1+X*Y\n",
    "t = integer_floor(m*(1-2*gamma))\n",
    "Mat =lattice(m,t,N,e2,gamma)\n",
    "Matl = Mat.LLL()\n",
    "    \n",
    "Pr.<x,y,u> = PolynomialRing(QQ)\n",
    "# On crée une liste de monômes\n",
    "M =[(x/X)**(k-i)*(u/U)**i for k in range(m+1) for i in range(k+1)]+[(y/Y)**j*(u/U)**k for j in range(1,t+1) for k in [integer_floor(m/t)*j..m]]\n",
    "    \n",
    "# On crée les polynomes de chaque ligne de la matrice.\n",
    "P=[sum(Matl[i][j]*M[j] for j in range(len(M))) for i in range(len(M))]\n",
    "    \n",
    "    \n",
    "    \n",
    "# On remplace u par 1+x*y\n",
    "Pchange = [changevar2(i) for i in P]\n",
    "    \n",
    "    \n",
    "   \n",
    " #on initialise i=0\n",
    "i = 2\n",
    "P1 = Pchange[i]\n",
    "P2 = Pchange[i+1]\n",
    "    \n",
    "# On met Pxy un nouvelle anneau polynomial en fonction de x et y\n",
    "Pxy.<x, y> = PolynomialRing(ZZ)\n",
    "# On caste P1 et P2 en Pxy\n",
    "    \n",
    "PP1 = Pxy(P1)\n",
    "PP2 = Pxy(P2)\n",
    "   \n",
    "    \n",
    "res = PP1.resultant(PP2,y)\n",
    "    \n",
    "# On met Px un nouvelle anneau polynomial en fonction de x\n",
    "Px.<x> = PolynomialRing(ZZ)\n",
    "    \n",
    "resx = Px(res)\n",
    "    \n",
    "    \n",
    "while res.degree() < 0  and i!=len(M)-2:\n",
    "    i = i+1\n",
    "    P1 = Pchange[i]\n",
    "    P2 = Pchange[i+1] \n",
    "    PP1 = Pxy(P1)\n",
    "    PP2 = Pxy(P2)\n",
    "        \n",
    "    \n",
    "    # On met Px un nouvelle anneau polynomial en fonction de x\n",
    "   \n",
    "    res = PP1.resultant(PP2,y)\n",
    "        \n",
    "    Px.<x> = PolynomialRing(QQ)\n",
    "    \n",
    "    resx = Px(res)\n",
    "        \n",
    "        \n",
    "    \n",
    "        \n",
    "    \n",
    "# On regarde sur on est sorti de la liste de fonctions\n",
    "if i == len(M)-2:\n",
    "    print(-1)\n",
    "# On cherche la premiere valeur   \n",
    "x0 = resx.roots(QQ)[0][0]\n",
    "    \n",
    "    \n",
    "#On reinjecte cette valeur sur le premier polynôme\n",
    "PPP1 = P2.subs(x=x0)\n",
    "    \n",
    "# On met Py un nouvelle anneau polynomial en fonction de y\n",
    "Py.<y> = PolynomialRing(ZZ)\n",
    "    \n",
    "# On le caste en Py\n",
    "equy = Py(PPP1)\n",
    "    \n",
    "# On cherche la racine de cette équation en fonction de y\n",
    "y0 =equy.roots(QQ)[0][0]\n",
    "    \n",
    "# D'aprés les résultats de la question 16 et 17\n",
    "d = (x0*(N+1+y0)+1)/e1\n",
    "    \n",
    "print(\"d =\", d) "
   ]
  },
  {
   "cell_type": "markdown",
   "metadata": {},
   "source": [
    "## 25"
   ]
  }
 ],
 "metadata": {
  "kernelspec": {
   "display_name": "SageMath 9.2",
   "language": "sage",
   "name": "sagemath"
  },
  "language_info": {
   "codemirror_mode": {
    "name": "ipython",
    "version": 3
   },
   "file_extension": ".py",
   "mimetype": "text/x-python",
   "name": "python",
   "nbconvert_exporter": "python",
   "pygments_lexer": "ipython3",
   "version": "3.8.5"
  }
 },
 "nbformat": 4,
 "nbformat_minor": 4
}
